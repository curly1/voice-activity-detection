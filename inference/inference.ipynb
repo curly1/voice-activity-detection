{
 "cells": [
  {
   "cell_type": "code",
   "execution_count": 1,
   "source": [
    "project_dir = \"/Users/joannarownicka/software/vad\"\n",
    "os.chdir(project_dir)"
   ],
   "outputs": [],
   "metadata": {}
  },
  {
   "cell_type": "code",
   "execution_count": 2,
   "source": [
    "import numpy as np\n",
    "import os\n",
    "from pathlib import Path\n",
    "from typing import List\n",
    "\n",
    "import matplotlib.pyplot as plt\n",
    "import torch\n",
    "\n",
    "from lhotse.cut import CutSet\n",
    "from lhotse.dataset.sampling import SingleCutSampler, BucketingSampler\n",
    "from lhotse.dataset.vad import VadDataset\n",
    "\n",
    "from torch.utils.data import DataLoader\n",
    "\n",
    "from models.dnn import DNN\n",
    "from inference.postprocess import smooth_predictions\n",
    "from models.accuracy import compute_acc_without_pad\n",
    "\n",
    "from sklearn.metrics import confusion_matrix, classification_report"
   ],
   "outputs": [],
   "metadata": {}
  },
  {
   "cell_type": "code",
   "execution_count": 3,
   "source": [
    "root_dir = Path('evaluation/data')\n",
    "corpus_dir = root_dir / 'vad_data/'\n",
    "output_dir = root_dir / 'vad_data_nb/'\n",
    "model_path = Path('storage/models/dnn_ce_fbank80_ignoreindex_lr2/checkpoint_14.pth')\n",
    "\n",
    "cuts_eval = CutSet.from_json(output_dir / 'cuts_80_eval.json.gz')\n",
    "vad_dataset = VadDataset()\n",
    "eval_sampler = SingleCutSampler(cuts_eval, shuffle=False, max_duration=300)\n",
    "eval_dloader = DataLoader(vad_dataset, sampler=eval_sampler, batch_size=None)"
   ],
   "outputs": [],
   "metadata": {}
  },
  {
   "cell_type": "code",
   "execution_count": 4,
   "source": [
    "pred_list = []\n",
    "gold_list = []\n",
    "\n",
    "cut_ids = next(iter(eval_sampler))\n",
    "sample = vad_dataset[cut_ids]\n",
    "input_size = sample['inputs'][0].shape[1]\n",
    "\n",
    "device = torch.device('cuda' if torch.cuda.is_available() else 'cpu')\n",
    "model = DNN(input_size=input_size, hidden_size=256, num_classes=2)\n",
    "model.load_state_dict(torch.load(model_path)['state_dict'])\n",
    "\n",
    "model.eval()\n",
    "with torch.no_grad():\n",
    "    for data in eval_dloader:\n",
    "        \n",
    "        inputs_eval = data[\"inputs\"].reshape(-1,input_size)\n",
    "        targets_eval = data[\"is_voice\"].reshape(-1,1).view(-1)\n",
    "\n",
    "        out = model(inputs_eval.to(device))\n",
    "        model_acc, predictions, labels = compute_acc_without_pad(\n",
    "            out, targets_eval.unsqueeze(1).to(device))\n",
    "\n",
    "        pred_list.extend(predictions)\n",
    "        gold_list.extend(labels)"
   ],
   "outputs": [],
   "metadata": {}
  },
  {
   "cell_type": "code",
   "execution_count": 5,
   "source": [
    "smoothed_pred_list = smooth_predictions(\n",
    "                pred_list, \\\n",
    "                smooth_num_frames=3, \\\n",
    "                hangover=True, \\\n",
    "                min_speech_frames=10)"
   ],
   "outputs": [],
   "metadata": {}
  },
  {
   "cell_type": "code",
   "execution_count": 6,
   "source": [
    "print(confusion_matrix(gold_list, smoothed_pred_list))\n",
    "print(classification_report(gold_list, smoothed_pred_list))"
   ],
   "outputs": [
    {
     "output_type": "stream",
     "name": "stdout",
     "text": [
      "[[21308  3358]\n",
      " [ 4963 90056]]\n",
      "              precision    recall  f1-score   support\n",
      "\n",
      "         0.0       0.81      0.86      0.84     24666\n",
      "         1.0       0.96      0.95      0.96     95019\n",
      "\n",
      "    accuracy                           0.93    119685\n",
      "   macro avg       0.89      0.91      0.90    119685\n",
      "weighted avg       0.93      0.93      0.93    119685\n",
      "\n"
     ]
    }
   ],
   "metadata": {}
  },
  {
   "cell_type": "code",
   "execution_count": 7,
   "source": [
    "def visualise(\n",
    "    l: List, num_frames: int, title: str):\n",
    "    label_height = 10\n",
    "    vad_label = np.stack([(l[:num_frames]) \\\n",
    "        for i in range(label_height)]).reshape(label_height, num_frames)\n",
    "    plt.matshow(vad_label)\n",
    "    plt.title(title)"
   ],
   "outputs": [],
   "metadata": {}
  },
  {
   "cell_type": "code",
   "execution_count": 8,
   "source": [
    "num_frames = 500\n",
    "assert num_frames <= len(pred_list)\n",
    "\n",
    "visualise(pred_list, num_frames=num_frames, title=\"Predictions\")\n",
    "visualise(smoothed_pred_list, num_frames=num_frames, title=\"Smoothed predictions\")\n",
    "visualise(gold_list, num_frames=num_frames, title=\"Gold labels\")"
   ],
   "outputs": [
    {
     "output_type": "display_data",
     "data": {
      "image/png": "[encoded data removed]",
      "text/plain": [
       "<Figure size 1152x144 with 1 Axes>"
      ]
     },
     "metadata": {
      "needs_background": "light"
     }
    },
    {
     "output_type": "display_data",
     "data": {
      "image/png": "[encoded data removed]",
      "text/plain": [
       "<Figure size 1152x144 with 1 Axes>"
      ]
     },
     "metadata": {
      "needs_background": "light"
     }
    },
    {
     "output_type": "display_data",
     "data": {
      "image/png": "[encoded data removed]",
      "text/plain": [
       "<Figure size 1152x144 with 1 Axes>"
      ]
     },
     "metadata": {
      "needs_background": "light"
     }
    }
   ],
   "metadata": {}
  }
 ],
 "metadata": {
  "orig_nbformat": 4,
  "language_info": {
   "name": "python",
   "version": "3.9.7",
   "mimetype": "text/x-python",
   "codemirror_mode": {
    "name": "ipython",
    "version": 3
   },
   "pygments_lexer": "ipython3",
   "nbconvert_exporter": "python",
   "file_extension": ".py"
  },
  "kernelspec": {
   "name": "python3",
   "display_name": "Python 3.9.7 64-bit ('vad': conda)"
  },
  "interpreter": {
   "hash": "d889b5b8029a42385c8853d77d52b7bb9562854fc5ba7ad04d6da216dea4a0d2"
  }
 },
 "nbformat": 4,
 "nbformat_minor": 2
}