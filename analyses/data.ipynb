{
 "cells": [
  {
   "cell_type": "markdown",
   "source": [
    "# Setup"
   ],
   "metadata": {}
  },
  {
   "cell_type": "code",
   "execution_count": 7,
   "source": [
    "!pip install sox\n",
    "!pip install numpy"
   ],
   "outputs": [
    {
     "output_type": "stream",
     "name": "stdout",
     "text": [
      "Requirement already satisfied: sox in /Users/joannarownicka/miniconda3/envs/vad/lib/python3.9/site-packages (1.4.1)\n",
      "Requirement already satisfied: numpy>=1.9.0 in /Users/joannarownicka/miniconda3/envs/vad/lib/python3.9/site-packages (from sox) (1.21.2)\n",
      "Requirement already satisfied: numpy in /Users/joannarownicka/miniconda3/envs/vad/lib/python3.9/site-packages (1.21.2)\n"
     ]
    }
   ],
   "metadata": {}
  },
  {
   "cell_type": "code",
   "execution_count": 22,
   "source": [
    "import glob\n",
    "import sox\n",
    "import numpy as np\n",
    "import os"
   ],
   "outputs": [],
   "metadata": {}
  },
  {
   "cell_type": "code",
   "execution_count": 34,
   "source": [
    "# input data directory with wav and json files\n",
    "input_data_dir = os.getcwd() + '/../vad_data/'"
   ],
   "outputs": [],
   "metadata": {}
  },
  {
   "cell_type": "markdown",
   "source": [
    "# Statistics and checks"
   ],
   "metadata": {}
  },
  {
   "cell_type": "code",
   "execution_count": 32,
   "source": [
    "seconds_all_files = []\n",
    "for f in glob.glob(input_data_dir + \"*.wav\"):\n",
    "    seconds = sox.file_info.duration(f)\n",
    "    seconds_all_files.append(seconds)"
   ],
   "outputs": [],
   "metadata": {}
  },
  {
   "cell_type": "code",
   "execution_count": 37,
   "source": [
    "print(seconds_all_files)\n",
    "print(np.mean(seconds_all_files))\n",
    "print(np.var(seconds_all_files))\n"
   ],
   "outputs": [
    {
     "output_type": "stream",
     "name": "stdout",
     "text": [
      "12.334665752351098\n",
      "15.217336579785957\n"
     ]
    }
   ],
   "metadata": {}
  }
 ],
 "metadata": {
  "orig_nbformat": 4,
  "language_info": {
   "name": "python",
   "version": "3.9.7",
   "mimetype": "text/x-python",
   "codemirror_mode": {
    "name": "ipython",
    "version": 3
   },
   "pygments_lexer": "ipython3",
   "nbconvert_exporter": "python",
   "file_extension": ".py"
  },
  "kernelspec": {
   "name": "python3",
   "display_name": "Python 3.9.6 64-bit ('vad': conda)"
  },
  "interpreter": {
   "hash": "d889b5b8029a42385c8853d77d52b7bb9562854fc5ba7ad04d6da216dea4a0d2"
  }
 },
 "nbformat": 4,
 "nbformat_minor": 2
}