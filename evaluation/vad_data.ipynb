{
 "cells": [
  {
   "cell_type": "markdown",
   "source": [
    "# Setup"
   ],
   "metadata": {}
  },
  {
   "cell_type": "code",
   "execution_count": 1,
   "source": [
    "!pip install sox\n",
    "!pip install numpy"
   ],
   "outputs": [
    {
     "output_type": "stream",
     "name": "stdout",
     "text": [
      "Requirement already satisfied: sox in /Users/joannarownicka/miniconda3/envs/vad/lib/python3.9/site-packages (1.4.1)\n",
      "Requirement already satisfied: numpy>=1.9.0 in /Users/joannarownicka/miniconda3/envs/vad/lib/python3.9/site-packages (from sox) (1.21.2)\n",
      "Requirement already satisfied: numpy in /Users/joannarownicka/miniconda3/envs/vad/lib/python3.9/site-packages (1.21.2)\n"
     ]
    }
   ],
   "metadata": {}
  },
  {
   "cell_type": "code",
   "execution_count": 2,
   "source": [
    "import glob\n",
    "import sox\n",
    "import json\n",
    "import numpy as np\n",
    "import os"
   ],
   "outputs": [],
   "metadata": {}
  },
  {
   "cell_type": "code",
   "execution_count": 3,
   "source": [
    "# input data directory with wav and json files\n",
    "input_data_dir = os.getcwd() + '/data/vad_data/'\n",
    "sample_rate = 16000"
   ],
   "outputs": [],
   "metadata": {}
  },
  {
   "cell_type": "markdown",
   "source": [
    "# Checks and statistics"
   ],
   "metadata": {}
  },
  {
   "cell_type": "markdown",
   "source": [
    "### Check if:\n",
    "\n",
    "- the sampling rate is the same for all audio files,\n",
    "- all wav files have a corresponding json file,\n",
    "- the structure of json files is consistent\n",
    "\n",
    "### Statistics:\n",
    "\n",
    "- total duration of the dataset,\n",
    "- min, max, mean, median, variance, standard deviation,"
   ],
   "metadata": {}
  },
  {
   "cell_type": "code",
   "execution_count": 4,
   "source": [
    "seconds_all_files = []\n",
    "file_found = False\n",
    "for f_wav in glob.glob(input_data_dir + \"*.wav\"):\n",
    "    for f_json in glob.glob(input_data_dir + \"*.json\"):\n",
    "        data = json.load(open(f_json))\n",
    "        if not data[\"speech_segments\"]:\n",
    "            print(\"Something might be wrong with file {}.\".format(f_json))\n",
    "        if f_wav.strip(\".wav\") == f_json.strip(\".json\"):\n",
    "            file_found = True\n",
    "            break\n",
    "    if not file_found: \n",
    "        print(\"A json file is missing for {}.\".format(f_wav))\n",
    "\n",
    "    seconds = sox.file_info.duration(f_wav)\n",
    "    seconds_all_files.append(seconds)\n",
    "    assert sox.file_info.sample_rate(f_wav) == sample_rate"
   ],
   "outputs": [],
   "metadata": {}
  },
  {
   "cell_type": "code",
   "execution_count": 5,
   "source": [
    "total_dur = np.sum(seconds_all_files)\n",
    "min_val = np.min(seconds_all_files)\n",
    "max_val = np.max(seconds_all_files)\n",
    "mean_val = np.mean(seconds_all_files)\n",
    "median_val = np.median(seconds_all_files)\n",
    "var_val = np.var(seconds_all_files)\n",
    "std_val = np.std(seconds_all_files)\n",
    "\n",
    "print('Total duration of the dataset is {dur} hours.'.format(dur=round(total_dur/60/60, 2)))\n",
    "print('Min duration is {min} seconds, max duration is {max} seconds.'.format(min=round(min_val, 1), max=round(max_val, 1)))\n",
    "print('Mean and median values are {mean} seconds and {median} seconds.'.format(mean=round(mean_val, 1), median=round(median_val, 1)))\n",
    "print('Variance and standard deviation are {var} seconds and {std} seconds.'.format(var=round(var_val, 1), std=round(std_val,1)))"
   ],
   "outputs": [
    {
     "output_type": "stream",
     "name": "stdout",
     "text": [
      "Total duration of the dataset is 3.28 hours.\n",
      "Min duration is 1.4 seconds, max duration is 17.2 seconds.\n",
      "Mean and median values are 12.3 seconds and 13.9 seconds.\n",
      "Variance and standard deviation are 15.2 seconds and 3.9 seconds.\n"
     ]
    }
   ],
   "metadata": {}
  }
 ],
 "metadata": {
  "orig_nbformat": 4,
  "language_info": {
   "name": "python",
   "version": "3.9.7",
   "mimetype": "text/x-python",
   "codemirror_mode": {
    "name": "ipython",
    "version": 3
   },
   "pygments_lexer": "ipython3",
   "nbconvert_exporter": "python",
   "file_extension": ".py"
  },
  "kernelspec": {
   "name": "python3",
   "display_name": "Python 3.9.7 64-bit ('vad': conda)"
  },
  "interpreter": {
   "hash": "d889b5b8029a42385c8853d77d52b7bb9562854fc5ba7ad04d6da216dea4a0d2"
  }
 },
 "nbformat": 4,
 "nbformat_minor": 2
}