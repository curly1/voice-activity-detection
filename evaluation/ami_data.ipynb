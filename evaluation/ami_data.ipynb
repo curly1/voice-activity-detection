{
 "cells": [
  {
   "cell_type": "code",
   "execution_count": 1,
   "source": [
    "from pathlib import Path\n",
    "\n",
    "import matplotlib.pyplot as plt\n",
    "import torch\n",
    "from lhotse import LilcomFilesWriter\n",
    "\n",
    "from lhotse.recipes.ami import download_ami, prepare_ami\n",
    "from lhotse.features import Fbank, FeatureSetBuilder\n",
    "from lhotse.cut import CutSet\n",
    "from lhotse.dataset.sampling import SingleCutSampler\n",
    "from lhotse.dataset.speech_recognition import K2SpeechRecognitionDataset\n",
    "from lhotse.dataset.vad import VadDataset"
   ],
   "outputs": [],
   "metadata": {}
  },
  {
   "cell_type": "markdown",
   "source": [
    "# Settings for paths"
   ],
   "metadata": {}
  },
  {
   "cell_type": "code",
   "execution_count": 7,
   "source": [
    "root_dir = Path('data')\n",
    "output_dir = root_dir"
   ],
   "outputs": [],
   "metadata": {}
  },
  {
   "cell_type": "markdown",
   "source": [
    "# Download the dataset"
   ],
   "metadata": {}
  },
  {
   "cell_type": "code",
   "execution_count": 5,
   "source": [
    "download_ami(root_dir, mic = \"ihm\")"
   ],
   "outputs": [
    {
     "output_type": "stream",
     "name": "stderr",
     "text": [
      "Downloading IN1002.Headset-3.wav: 75.5MB [00:45, 1.75MB/s]                            \n",
      "Downloading IN1005.Headset-0.wav: 85.4MB [00:52, 1.69MB/s]                            \n",
      "Downloading IN1005.Headset-1.wav: 85.4MB [00:45, 1.95MB/s]\n",
      "Downloading IN1005.Headset-2.wav: 85.4MB [00:46, 1.92MB/s]                            \n",
      "Downloading IN1005.Headset-3.wav: 85.4MB [00:43, 2.05MB/s]                            \n",
      "Downloading IN1007.Headset-0.wav: 73.6MB [00:44, 1.75MB/s]                            \n",
      "Downloading IN1007.Headset-1.wav: 73.6MB [00:39, 1.96MB/s]                            \n",
      "Downloading IN1007.Headset-2.wav: 73.6MB [00:38, 2.03MB/s]                            \n",
      "Downloading IN1007.Headset-3.wav: 73.6MB [00:43, 1.77MB/s]                            \n",
      "Downloading IN1008.Headset-0.wav: 104MB [00:59, 1.85MB/s]                           \n",
      "Downloading IN1008.Headset-1.wav: 104MB [00:58, 1.87MB/s]                           \n",
      "Downloading IN1008.Headset-2.wav: 104MB [00:58, 1.86MB/s]                           \n",
      "Downloading IN1008.Headset-3.wav: 104MB [00:57, 1.89MB/s]                           \n",
      "Downloading IN1009.Headset-0.wav: 38.3MB [00:22, 1.81MB/s]                            \n",
      "Downloading IN1009.Headset-1.wav: 38.3MB [00:20, 1.96MB/s]                            \n",
      "Downloading IN1009.Headset-2.wav: 38.3MB [00:21, 1.87MB/s]                            \n",
      "Downloading IN1009.Headset-3.wav: 38.3MB [00:21, 1.88MB/s]                            \n",
      "Downloading IN1012.Headset-0.wav: 94.9MB [00:52, 1.91MB/s]                            \n",
      "Downloading IN1012.Headset-1.wav: 94.9MB [00:49, 2.03MB/s]                            \n",
      "Downloading IN1012.Headset-2.wav: 94.9MB [00:51, 1.92MB/s]                            \n",
      "Downloading IN1012.Headset-3.wav: 94.9MB [00:51, 1.92MB/s]                            \n",
      "Downloading IN1013.Headset-0.wav: 95.9MB [00:53, 1.89MB/s]                            \n",
      "Downloading IN1013.Headset-1.wav: 95.9MB [00:54, 1.86MB/s]                            \n",
      "Downloading IN1013.Headset-2.wav: 95.9MB [00:51, 1.95MB/s]                            \n",
      "Downloading IN1013.Headset-3.wav: 95.9MB [00:50, 1.98MB/s]                            \n",
      "Downloading IN1014.Headset-0.wav: 113MB [01:03, 1.86MB/s]                           \n",
      "Downloading IN1014.Headset-1.wav: 113MB [01:01, 1.91MB/s]                           \n",
      "Downloading IN1014.Headset-2.wav: 113MB [01:05, 1.80MB/s]                           \n",
      "Downloading IN1014.Headset-3.wav: 113MB [01:04, 1.84MB/s]                           \n",
      "Downloading IN1016.Headset-0.wav: 110MB [00:59, 1.92MB/s]                           \n",
      "Downloading IN1016.Headset-1.wav: 110MB [01:05, 1.75MB/s]                           \n",
      "Downloading IN1016.Headset-2.wav: 110MB [00:59, 1.93MB/s]                           \n",
      "Downloading IN1016.Headset-3.wav: 110MB [01:02, 1.84MB/s]                           \n",
      "Downloading IS1000a.Headset-0.wav: 48.3MB [00:27, 1.85MB/s]                            \n",
      "Downloading IS1000a.Headset-1.wav: 48.3MB [00:27, 1.87MB/s]                            \n",
      "Downloading IS1000a.Headset-2.wav: 48.3MB [00:24, 2.04MB/s]                            \n",
      "Downloading IS1000a.Headset-3.wav: 48.3MB [00:26, 1.93MB/s]                            \n",
      "Downloading IS1000b.Headset-0.wav: 71.5MB [00:41, 1.79MB/s]                            \n",
      "Downloading IS1000b.Headset-1.wav: 71.5MB [00:40, 1.87MB/s]                            \n",
      "Downloading IS1000b.Headset-2.wav: 71.5MB [00:39, 1.89MB/s]                            \n",
      "Downloading IS1000b.Headset-3.wav: 71.5MB [00:39, 1.91MB/s]                            \n",
      "Downloading IS1000c.Headset-0.wav: 64.5MB [00:34, 1.95MB/s]                            \n",
      "Downloading IS1000c.Headset-1.wav: 64.5MB [00:35, 1.89MB/s]                            \n",
      "Downloading IS1000c.Headset-2.wav: 64.5MB [00:34, 1.97MB/s]                            \n",
      "Downloading IS1000c.Headset-3.wav: 64.5MB [00:35, 1.92MB/s]                            \n",
      "Downloading IS1000d.Headset-0.wav: 79.9MB [00:48, 1.71MB/s]                            \n",
      "Downloading IS1000d.Headset-1.wav: 79.9MB [00:46, 1.82MB/s]\n",
      "Downloading IS1000d.Headset-2.wav: 79.9MB [00:43, 1.93MB/s]                            \n",
      "Downloading IS1000d.Headset-3.wav: 79.9MB [00:42, 1.95MB/s]                            \n",
      "Downloading IS1001a.Headset-0.wav: 27.8MB [00:15, 1.86MB/s]                            \n",
      "Downloading IS1001a.Headset-1.wav: 27.8MB [00:16, 1.78MB/s]                            \n",
      "Downloading IS1001a.Headset-2.wav: 27.8MB [00:16, 1.79MB/s]                            \n",
      "Downloading IS1001a.Headset-3.wav: 27.8MB [00:14, 2.05MB/s]                            \n",
      "Downloading IS1001b.Headset-0.wav: 64.6MB [00:35, 1.89MB/s]                            \n",
      "Downloading IS1001b.Headset-1.wav: 64.6MB [00:34, 1.96MB/s]                            \n",
      "Downloading IS1001b.Headset-2.wav: 64.6MB [00:38, 1.76MB/s]                            \n",
      "Downloading IS1001b.Headset-3.wav: 64.6MB [00:34, 1.96MB/s]                            \n",
      "Downloading IS1001c.Headset-0.wav: 44.1MB [00:26, 1.77MB/s]                            \n",
      "Downloading IS1001c.Headset-1.wav: 44.1MB [00:25, 1.85MB/s]                            \n",
      "Downloading IS1001c.Headset-2.wav: 44.1MB [00:24, 1.87MB/s]                            \n",
      "Downloading IS1001c.Headset-3.wav: 44.1MB [00:24, 1.89MB/s]                            \n",
      "Downloading IS1001d.Headset-0.wav: 23.8MB [00:15, 1.61MB/s]                            \n",
      "Downloading IS1001d.Headset-1.wav: 23.8MB [00:13, 1.90MB/s]                            \n",
      "Downloading IS1001d.Headset-2.wav: 23.8MB [00:13, 1.88MB/s]                            \n",
      "Downloading IS1001d.Headset-3.wav: 23.8MB [00:13, 1.81MB/s]                            \n",
      "Downloading IS1002b.Headset-0.wav: 72.3MB [00:38, 1.96MB/s]                            \n",
      "Downloading IS1002b.Headset-1.wav: 72.3MB [00:40, 1.86MB/s]                            \n",
      "Downloading IS1002b.Headset-2.wav: 72.3MB [00:39, 1.91MB/s]                            \n",
      "Downloading IS1002b.Headset-3.wav: 72.3MB [00:40, 1.86MB/s]                            \n",
      "Downloading IS1002c.Headset-0.wav: 63.5MB [00:35, 1.88MB/s]                            \n",
      "Downloading IS1002c.Headset-1.wav: 63.5MB [00:34, 1.95MB/s]                            \n",
      "Downloading IS1002c.Headset-2.wav: 63.5MB [00:34, 1.91MB/s]                            \n",
      "Downloading IS1002c.Headset-3.wav: 63.5MB [00:34, 1.91MB/s]                            \n",
      "Downloading IS1002d.Headset-0.wav: 38.5MB [00:22, 1.83MB/s]                            \n",
      "Downloading IS1002d.Headset-1.wav: 38.5MB [00:22, 1.84MB/s]                            \n",
      "Downloading IS1002d.Headset-2.wav: 38.5MB [00:20, 1.99MB/s]                            \n",
      "Downloading IS1002d.Headset-3.wav: 38.5MB [00:24, 1.62MB/s]                            \n",
      "Downloading IS1003a.Headset-0.wav: 27.9MB [00:17, 1.70MB/s]                            \n",
      "Downloading IS1003a.Headset-1.wav: 27.9MB [00:15, 1.86MB/s]                            \n",
      "Downloading IS1003a.Headset-2.wav: 27.9MB [00:14, 2.01MB/s]                           \n",
      "Downloading IS1003a.Headset-3.wav: 27.9MB [00:14, 1.98MB/s]                            \n",
      "Downloading IS1003b.Headset-0.wav: 50.2MB [00:28, 1.82MB/s]                            \n",
      "Downloading IS1003b.Headset-1.wav: 50.2MB [00:27, 1.92MB/s]                            \n",
      "Downloading IS1003b.Headset-2.wav: 50.2MB [00:27, 1.91MB/s]                            \n",
      "Downloading IS1003b.Headset-3.wav: 50.2MB [00:26, 1.97MB/s]                            \n",
      "Downloading IS1003c.Headset-0.wav: 57.3MB [00:34, 1.77MB/s]                            \n",
      "Downloading IS1003c.Headset-1.wav: 57.3MB [00:33, 1.82MB/s]                            \n",
      "Downloading IS1003c.Headset-2.wav: 57.3MB [00:31, 1.91MB/s]                            \n",
      "Downloading IS1003c.Headset-3.wav: 57.3MB [00:35, 1.71MB/s]                            \n",
      "Downloading IS1003d.Headset-0.wav: 64.1MB [00:36, 1.83MB/s]                            \n",
      "Downloading IS1003d.Headset-1.wav: 64.1MB [00:35, 1.90MB/s]                            \n",
      "Downloading IS1003d.Headset-2.wav: 64.1MB [00:35, 1.87MB/s]                            \n",
      "Downloading IS1003d.Headset-3.wav: 64.1MB [00:34, 1.94MB/s]                            \n",
      "Downloading IS1004a.Headset-0.wav: 24.3MB [00:13, 1.85MB/s]                            \n",
      "Downloading IS1004a.Headset-1.wav: 24.3MB [00:13, 1.84MB/s]                            \n",
      "Downloading IS1004a.Headset-2.wav: 24.3MB [00:14, 1.72MB/s]                            \n",
      "Downloading IS1004a.Headset-3.wav: 24.3MB [00:13, 1.92MB/s]                            \n",
      "Downloading IS1004b.Headset-0.wav: 66.6MB [00:35, 1.95MB/s]                            \n",
      "Downloading IS1004b.Headset-1.wav: 66.6MB [00:37, 1.84MB/s]                            \n",
      "Downloading IS1004b.Headset-2.wav: 66.6MB [00:39, 1.77MB/s]                            \n",
      "Downloading IS1004b.Headset-3.wav: 66.6MB [00:37, 1.88MB/s]                            \n",
      "Downloading IS1004c.Headset-0.wav: 69.1MB [00:36, 1.98MB/s]                            \n",
      "Downloading IS1004c.Headset-1.wav: 69.1MB [00:38, 1.88MB/s]                            \n",
      "Downloading IS1004c.Headset-2.wav: 69.1MB [00:41, 1.76MB/s]                            \n",
      "Downloading IS1004c.Headset-3.wav: 69.1MB [00:38, 1.89MB/s]                            \n",
      "Downloading IS1004d.Headset-0.wav: 60.0MB [00:35, 1.78MB/s]                            \n",
      "Downloading IS1004d.Headset-1.wav: 60.0MB [00:33, 1.88MB/s]                            \n",
      "Downloading IS1004d.Headset-2.wav: 60.0MB [00:37, 1.69MB/s]                            \n",
      "Downloading IS1004d.Headset-3.wav: 60.0MB [00:34, 1.83MB/s]                            \n",
      "Downloading IS1005a.Headset-0.wav: 31.3MB [00:17, 1.90MB/s]                            \n",
      "Downloading IS1005a.Headset-1.wav: 31.3MB [00:17, 1.86MB/s]                            \n",
      "Downloading IS1005a.Headset-2.wav: 31.3MB [00:18, 1.80MB/s]                            \n",
      "Downloading IS1005a.Headset-3.wav: 31.3MB [00:18, 1.80MB/s]                            \n",
      "Downloading IS1005b.Headset-0.wav: 66.6MB [00:38, 1.83MB/s]                            \n",
      "Downloading IS1005b.Headset-1.wav: 66.6MB [00:35, 1.95MB/s]                            \n",
      "Downloading IS1005b.Headset-2.wav: 66.6MB [00:35, 1.99MB/s]                            \n",
      "Downloading IS1005b.Headset-3.wav: 66.6MB [00:36, 1.90MB/s]                            \n",
      "Downloading IS1005c.Headset-0.wav: 62.9MB [00:39, 1.67MB/s]                            \n",
      "Downloading IS1005c.Headset-1.wav: 62.9MB [00:34, 1.93MB/s]                            \n",
      "Downloading IS1005c.Headset-2.wav: 62.9MB [00:33, 1.97MB/s]                            \n",
      "Downloading IS1005c.Headset-3.wav: 62.9MB [00:33, 1.95MB/s]                            \n",
      "Downloading IS1006a.Headset-0.wav: 26.0MB [00:14, 1.84MB/s]                            \n",
      "Downloading IS1006a.Headset-1.wav: 26.0MB [00:13, 2.02MB/s]                            \n",
      "Downloading IS1006a.Headset-2.wav: 26.0MB [00:14, 1.93MB/s]                            \n",
      "Downloading IS1006a.Headset-3.wav: 26.0MB [00:14, 1.91MB/s]                            \n",
      "Downloading IS1006b.Headset-0.wav: 65.9MB [00:35, 1.92MB/s]                            \n",
      "Downloading IS1006b.Headset-1.wav: 65.9MB [00:39, 1.77MB/s]                            \n",
      "Downloading IS1006b.Headset-2.wav: 65.9MB [00:37, 1.84MB/s]                            \n",
      "Downloading IS1006b.Headset-3.wav: 65.9MB [00:38, 1.78MB/s]                            \n",
      "Downloading IS1006c.Headset-0.wav: 59.5MB [00:36, 1.72MB/s]                            \n",
      "Downloading IS1006c.Headset-1.wav: 59.5MB [00:30, 2.03MB/s]                            \n",
      "Downloading IS1006c.Headset-2.wav: 59.5MB [00:31, 1.97MB/s]                            \n",
      "Downloading IS1006c.Headset-3.wav: 59.5MB [00:31, 1.96MB/s]                            \n",
      "Downloading IS1006d.Headset-0.wav: 56.1MB [00:30, 1.93MB/s]                            \n",
      "Downloading IS1006d.Headset-1.wav: 56.1MB [00:29, 2.03MB/s]                            \n",
      "Downloading IS1006d.Headset-2.wav: 56.1MB [00:28, 2.03MB/s]                            \n",
      "Downloading IS1006d.Headset-3.wav: 56.1MB [00:32, 1.83MB/s]                            \n",
      "Downloading IS1007a.Headset-0.wav: 29.5MB [00:16, 1.84MB/s]                            \n",
      "Downloading IS1007a.Headset-1.wav: 29.5MB [00:18, 1.65MB/s]                            \n",
      "Downloading IS1007a.Headset-2.wav: 29.5MB [00:16, 1.87MB/s]                            \n",
      "Downloading IS1007a.Headset-3.wav: 29.5MB [00:15, 2.05MB/s]                            \n",
      "Downloading IS1007b.Headset-0.wav: 39.8MB [00:20, 2.06MB/s]                            \n",
      "Downloading IS1007b.Headset-1.wav: 39.8MB [00:21, 1.95MB/s]                            \n",
      "Downloading IS1007b.Headset-2.wav: 39.8MB [00:21, 1.93MB/s]                            \n",
      "Downloading IS1007b.Headset-3.wav: 39.8MB [00:21, 1.94MB/s]                            \n",
      "Downloading IS1007c.Headset-0.wav: 64.5MB [00:35, 1.91MB/s]                            \n",
      "Downloading IS1007c.Headset-1.wav: 64.5MB [00:33, 2.02MB/s]                            \n",
      "Downloading IS1007c.Headset-2.wav: 64.5MB [00:34, 1.96MB/s]                            \n",
      "Downloading IS1007c.Headset-3.wav: 64.5MB [00:35, 1.92MB/s]                            \n",
      "Downloading IS1007d.Headset-0.wav: 61.9MB [00:39, 1.66MB/s]                            \n",
      "Downloading IS1007d.Headset-1.wav: 61.9MB [00:30, 2.10MB/s]                            \n",
      "Downloading IS1007d.Headset-2.wav: 61.9MB [00:36, 1.77MB/s]                            \n",
      "Downloading IS1007d.Headset-3.wav: 61.9MB [00:35, 1.81MB/s]                            \n",
      "Downloading IS1008a.Headset-0.wav: 28.8MB [00:16, 1.87MB/s]                            \n",
      "Downloading IS1008a.Headset-1.wav: 28.8MB [00:14, 2.06MB/s]                            \n",
      "Downloading IS1008a.Headset-2.wav: 28.8MB [00:16, 1.81MB/s]                            \n",
      "Downloading IS1008a.Headset-3.wav: 28.8MB [00:15, 1.92MB/s]                            \n",
      "Downloading IS1008b.Headset-0.wav: 54.0MB [00:31, 1.81MB/s]                            \n",
      "Downloading IS1008b.Headset-1.wav: 54.0MB [00:27, 2.07MB/s]                            \n",
      "Downloading IS1008b.Headset-2.wav: 54.0MB [00:30, 1.85MB/s]                            \n",
      "Downloading IS1008b.Headset-3.wav: 54.0MB [00:30, 1.84MB/s]                            \n",
      "Downloading IS1008c.Headset-0.wav: 47.2MB [00:29, 1.69MB/s]                            \n",
      "Downloading IS1008c.Headset-1.wav: 47.2MB [00:25, 1.95MB/s]                            \n",
      "Downloading IS1008c.Headset-2.wav: 47.2MB [00:23, 2.07MB/s]                            \n",
      "Downloading IS1008c.Headset-3.wav: 47.2MB [00:24, 2.03MB/s]                            \n",
      "Downloading IS1008d.Headset-0.wav: 45.2MB [00:24, 1.93MB/s]                            \n",
      "Downloading IS1008d.Headset-1.wav: 45.2MB [00:23, 2.03MB/s]\n",
      "Downloading IS1008d.Headset-2.wav: 45.2MB [00:23, 2.00MB/s]                            \n",
      "Downloading IS1008d.Headset-3.wav: 45.2MB [00:23, 2.00MB/s]                            \n",
      "Downloading IS1009a.Headset-0.wav: 25.6MB [00:14, 1.92MB/s]                            \n",
      "Downloading IS1009a.Headset-1.wav: 25.6MB [00:14, 1.84MB/s]                            \n",
      "Downloading IS1009a.Headset-2.wav: 25.6MB [00:14, 1.90MB/s]\n",
      "Downloading IS1009a.Headset-3.wav: 25.6MB [00:13, 1.98MB/s]                            \n",
      "Downloading IS1009b.Headset-0.wav: 62.6MB [00:32, 2.04MB/s]\n",
      "Downloading IS1009b.Headset-1.wav: 62.6MB [00:35, 1.85MB/s]                            \n",
      "Downloading IS1009b.Headset-2.wav: 62.6MB [00:33, 1.96MB/s]                            \n",
      "Downloading IS1009b.Headset-3.wav: 62.6MB [00:33, 1.95MB/s]                            \n",
      "Downloading IS1009c.Headset-0.wav: 55.6MB [00:30, 1.90MB/s]                            \n",
      "Downloading IS1009c.Headset-1.wav: 55.6MB [00:29, 1.96MB/s]                            \n",
      "Downloading IS1009c.Headset-2.wav: 55.6MB [00:30, 1.90MB/s]                            \n",
      "Downloading IS1009c.Headset-3.wav: 55.6MB [00:29, 1.96MB/s]\n",
      "Downloading IS1009d.Headset-0.wav: 59.3MB [00:34, 1.81MB/s]                            \n",
      "Downloading IS1009d.Headset-1.wav: 59.3MB [00:30, 2.02MB/s]                            \n",
      "Downloading IS1009d.Headset-2.wav: 59.3MB [00:35, 1.74MB/s]                            \n",
      "Downloading IS1009d.Headset-3.wav: 59.3MB [00:31, 1.98MB/s]                            \n",
      "Downloading TS3003a.Headset-0.wav: 46.0MB [00:26, 1.83MB/s]                            \n",
      "Downloading TS3003a.Headset-1.wav: 46.0MB [00:24, 1.97MB/s]                            \n",
      "Downloading TS3003a.Headset-2.wav: 46.0MB [00:25, 1.89MB/s]                            \n",
      "Downloading TS3003a.Headset-3.wav: 46.0MB [00:22, 2.10MB/s]                            \n",
      "Downloading TS3003b.Headset-0.wav: 67.5MB [00:38, 1.82MB/s]                            \n",
      "Downloading TS3003b.Headset-1.wav: 67.5MB [00:34, 2.03MB/s]\n",
      "Downloading TS3003b.Headset-2.wav: 67.5MB [00:35, 1.98MB/s]                            \n",
      "Downloading TS3003b.Headset-3.wav: 67.5MB [00:34, 2.07MB/s]                            \n",
      "Downloading TS3003c.Headset-0.wav: 78.4MB [00:47, 1.74MB/s]                            \n",
      "Downloading TS3003c.Headset-1.wav: 78.4MB [00:41, 1.97MB/s]                            \n",
      "Downloading TS3003c.Headset-2.wav: 78.4MB [00:40, 2.02MB/s]                            \n",
      "Downloading TS3003c.Headset-3.wav: 78.4MB [00:41, 1.98MB/s]                            \n",
      "Downloading TS3003d.Headset-0.wav: 79.9MB [00:43, 1.93MB/s]                            \n",
      "Downloading TS3003d.Headset-1.wav: 79.9MB [00:42, 1.97MB/s]                            \n",
      "Downloading TS3003d.Headset-2.wav: 79.9MB [00:42, 1.97MB/s]                            \n",
      "Downloading TS3003d.Headset-3.wav: 79.9MB [00:44, 1.90MB/s]                            \n",
      "Downloading TS3004a.Headset-0.wav: 41.1MB [00:21, 2.01MB/s]                            \n",
      "Downloading TS3004a.Headset-1.wav: 41.1MB [00:21, 1.99MB/s]                            \n",
      "Downloading TS3004a.Headset-2.wav: 41.1MB [00:21, 1.96MB/s]                            \n",
      "Downloading TS3004a.Headset-3.wav: 41.1MB [00:21, 2.04MB/s]                            \n",
      "Downloading TS3004b.Headset-0.wav: 68.5MB [00:36, 1.95MB/s]                            \n",
      "Downloading TS3004b.Headset-1.wav: 68.5MB [00:36, 1.96MB/s]                            \n",
      "Downloading TS3004b.Headset-2.wav: 68.5MB [00:36, 1.97MB/s]                            \n",
      "Downloading TS3004b.Headset-3.wav: 68.5MB [00:38, 1.86MB/s]                            \n",
      "Downloading TS3004c.Headset-0.wav: 90.6MB [00:52, 1.82MB/s]                            \n",
      "Downloading TS3004c.Headset-1.wav: 90.6MB [00:49, 1.92MB/s]                            \n",
      "Downloading TS3004c.Headset-2.wav: 90.6MB [00:49, 1.94MB/s]                            \n",
      "Downloading TS3004c.Headset-3.wav: 90.6MB [00:46, 2.06MB/s]                            \n",
      "Downloading TS3004d.Headset-0.wav: 84.0MB [00:45, 1.93MB/s]                            \n",
      "Downloading TS3004d.Headset-1.wav: 84.0MB [00:44, 1.97MB/s]                            \n",
      "Downloading TS3004d.Headset-2.wav: 84.0MB [00:46, 1.88MB/s]                            \n",
      "Downloading TS3004d.Headset-3.wav: 84.0MB [00:46, 1.88MB/s]                            \n",
      "Downloading TS3005a.Headset-0.wav: 40.3MB [00:23, 1.79MB/s]                            \n",
      "Downloading TS3005a.Headset-1.wav: 40.3MB [00:21, 1.92MB/s]                            \n",
      "Downloading TS3005a.Headset-2.wav: 40.3MB [00:21, 1.94MB/s]                            \n",
      "Downloading TS3005a.Headset-3.wav: 40.3MB [00:20, 2.07MB/s]                            \n",
      "Downloading TS3005b.Headset-0.wav: 74.5MB [00:39, 1.96MB/s]                            \n",
      "Downloading TS3005b.Headset-1.wav: 74.5MB [00:38, 2.01MB/s]                            \n",
      "Downloading TS3005b.Headset-2.wav: 74.5MB [00:38, 2.01MB/s]                            \n",
      "Downloading TS3005b.Headset-3.wav: 74.5MB [00:39, 1.96MB/s]                            \n",
      "Downloading TS3005c.Headset-0.wav: 73.3MB [00:41, 1.85MB/s]                            \n",
      "Downloading TS3005c.Headset-1.wav: 73.3MB [00:41, 1.86MB/s]                            \n",
      "Downloading TS3005c.Headset-2.wav: 73.3MB [00:39, 1.96MB/s]                            \n",
      "Downloading TS3005c.Headset-3.wav: 73.3MB [00:37, 2.03MB/s]                            \n",
      "Downloading TS3005d.Headset-0.wav: 81.6MB [00:43, 1.98MB/s]                            \n",
      "Downloading TS3005d.Headset-1.wav: 81.6MB [00:42, 2.04MB/s]                            \n",
      "Downloading TS3005d.Headset-2.wav: 81.6MB [00:45, 1.89MB/s]                            \n",
      "Downloading TS3005d.Headset-3.wav: 81.6MB [00:48, 1.76MB/s]                            \n",
      "Downloading TS3006a.Headset-0.wav: 38.2MB [00:20, 1.92MB/s]                            \n",
      "Downloading TS3006a.Headset-1.wav: 38.2MB [00:20, 1.99MB/s]                            \n",
      "Downloading TS3006a.Headset-2.wav: 38.2MB [00:21, 1.83MB/s]                            \n",
      "Downloading TS3006a.Headset-3.wav: 38.2MB [00:20, 1.97MB/s]                            \n",
      "Downloading TS3006b.Headset-0.wav: 71.8MB [00:41, 1.80MB/s]                            \n",
      "Downloading TS3006b.Headset-1.wav: 71.8MB [00:39, 1.89MB/s]                            \n",
      "Downloading TS3006b.Headset-2.wav: 71.8MB [00:39, 1.91MB/s]                            \n",
      "Downloading TS3006b.Headset-3.wav: 71.8MB [00:37, 1.98MB/s]                            \n",
      "Downloading TS3006c.Headset-0.wav: 78.9MB [00:43, 1.90MB/s]                            \n",
      "Downloading TS3006c.Headset-1.wav: 78.9MB [00:45, 1.83MB/s]                            \n",
      "Downloading TS3006c.Headset-2.wav: 78.9MB [00:46, 1.76MB/s]                            \n",
      "Downloading TS3006c.Headset-3.wav: 78.9MB [00:42, 1.95MB/s]                            \n",
      "Downloading TS3006d.Headset-0.wav: 90.7MB [00:47, 2.02MB/s]                            \n",
      "Downloading TS3006d.Headset-1.wav: 90.7MB [00:49, 1.94MB/s]                            \n",
      "Downloading TS3006d.Headset-2.wav: 90.7MB [00:54, 1.75MB/s]                            \n",
      "Downloading TS3006d.Headset-3.wav: 90.7MB [00:55, 1.70MB/s]                            \n",
      "Downloading TS3007a.Headset-0.wav: 49.1MB [00:31, 1.65MB/s]                            \n",
      "Downloading TS3007a.Headset-1.wav: 49.1MB [00:28, 1.83MB/s]                            \n",
      "Downloading TS3007a.Headset-2.wav: 49.1MB [00:25, 1.99MB/s]                            \n",
      "Downloading TS3007a.Headset-3.wav: 49.1MB [00:25, 2.01MB/s]                            \n",
      "Downloading TS3007b.Headset-0.wav: 102MB [00:55, 1.95MB/s]                           \n",
      "Downloading TS3007b.Headset-1.wav: 102MB [00:53, 2.01MB/s]                           \n",
      "Downloading TS3007b.Headset-2.wav: 102MB [00:58, 1.84MB/s]                           \n",
      "Downloading TS3007b.Headset-3.wav: 102MB [00:54, 1.96MB/s]                           \n",
      "Downloading TS3007c.Headset-0.wav: 73.9MB [00:38, 2.04MB/s]                            \n",
      "Downloading TS3007c.Headset-1.wav: 73.9MB [00:41, 1.85MB/s]                            \n",
      "Downloading TS3007c.Headset-2.wav: 73.9MB [00:49, 1.56MB/s]                            \n",
      "Downloading TS3007c.Headset-3.wav: 73.9MB [00:48, 1.60MB/s]                            \n",
      "Downloading TS3007d.Headset-0.wav: 86.2MB [00:58, 1.54MB/s]                            \n",
      "Downloading TS3007d.Headset-1.wav: 86.2MB [00:54, 1.66MB/s]                            \n",
      "Downloading TS3007d.Headset-2.wav: 86.2MB [00:48, 1.85MB/s]                            \n",
      "Downloading TS3007d.Headset-3.wav: 86.2MB [01:01, 1.47MB/s]                            \n",
      "Downloading TS3008a.Headset-0.wav: 41.3MB [00:29, 1.45MB/s]                            \n",
      "Downloading TS3008a.Headset-1.wav: 41.3MB [00:32, 1.34MB/s]                            \n",
      "Downloading TS3008a.Headset-2.wav: 41.3MB [00:28, 1.51MB/s]                            \n",
      "Downloading TS3008a.Headset-3.wav: 41.3MB [00:31, 1.38MB/s]                            \n",
      "Downloading TS3008b.Headset-0.wav: 70.8MB [00:49, 1.51MB/s]                            \n",
      "Downloading TS3008b.Headset-1.wav: 70.8MB [00:50, 1.48MB/s]                            \n",
      "Downloading TS3008b.Headset-2.wav: 70.8MB [00:50, 1.48MB/s]                            \n",
      "Downloading TS3008b.Headset-3.wav: 70.8MB [00:43, 1.71MB/s]                            \n",
      "Downloading TS3008c.Headset-0.wav: 76.5MB [00:47, 1.68MB/s]                            \n",
      "Downloading TS3008c.Headset-1.wav: 76.5MB [00:47, 1.68MB/s]                            \n",
      "Downloading TS3008c.Headset-2.wav: 76.5MB [00:52, 1.52MB/s]                            \n",
      "Downloading TS3008c.Headset-3.wav: 76.5MB [00:49, 1.61MB/s]                            \n",
      "Downloading TS3008d.Headset-0.wav: 85.3MB [00:57, 1.55MB/s]                            \n",
      "Downloading TS3008d.Headset-1.wav: 85.3MB [00:54, 1.65MB/s]                            \n",
      "Downloading TS3008d.Headset-2.wav: 85.3MB [00:53, 1.68MB/s]                            \n",
      "Downloading TS3008d.Headset-3.wav: 85.3MB [00:57, 1.54MB/s]                            \n",
      "Downloading TS3009a.Headset-0.wav: 46.0MB [00:30, 1.59MB/s]                            \n",
      "Downloading TS3009a.Headset-1.wav: 46.0MB [00:30, 1.58MB/s]                            \n",
      "Downloading TS3009a.Headset-2.wav: 46.0MB [00:26, 1.80MB/s]                            \n",
      "Downloading TS3009a.Headset-3.wav: 46.0MB [00:30, 1.59MB/s]                            \n",
      "Downloading TS3009b.Headset-0.wav: 75.1MB [00:51, 1.51MB/s]                            \n",
      "Downloading TS3009b.Headset-1.wav: 75.1MB [00:51, 1.54MB/s]                            \n",
      "Downloading TS3009b.Headset-2.wav: 75.1MB [00:48, 1.62MB/s]                            \n",
      "Downloading TS3009b.Headset-3.wav: 75.1MB [00:50, 1.57MB/s]                            \n",
      "Downloading TS3009c.Headset-0.wav: 78.7MB [00:44, 1.87MB/s]                            \n",
      "Downloading TS3009c.Headset-1.wav: 78.7MB [00:41, 2.00MB/s]                            \n",
      "Downloading TS3009c.Headset-2.wav: 78.7MB [00:43, 1.89MB/s]                            \n",
      "Downloading TS3009c.Headset-3.wav: 78.7MB [00:40, 2.03MB/s]                            \n",
      "Downloading TS3009d.Headset-0.wav: 62.8MB [00:34, 1.89MB/s]                            \n",
      "Downloading TS3009d.Headset-1.wav: 62.8MB [00:33, 1.96MB/s]                            \n",
      "Downloading TS3009d.Headset-2.wav: 62.8MB [00:35, 1.85MB/s]                            \n",
      "Downloading TS3009d.Headset-3.wav: 62.8MB [00:31, 2.07MB/s]                            \n",
      "Downloading TS3010a.Headset-0.wav: 31.8MB [00:17, 1.86MB/s]                            \n",
      "Downloading TS3010a.Headset-1.wav: 31.8MB [00:17, 1.86MB/s]                            \n",
      "Downloading TS3010a.Headset-2.wav: 31.8MB [00:16, 2.05MB/s]                            \n",
      "Downloading TS3010a.Headset-3.wav: 31.8MB [00:17, 1.87MB/s]\n",
      "Downloading TS3010b.Headset-0.wav: 63.6MB [00:33, 1.97MB/s]                            \n",
      "Downloading TS3010b.Headset-1.wav: 63.6MB [00:36, 1.82MB/s]                            \n",
      "Downloading TS3010b.Headset-2.wav: 63.6MB [00:33, 2.01MB/s]                            \n",
      "Downloading TS3010b.Headset-3.wav: 63.6MB [00:33, 1.99MB/s]                            \n",
      "Downloading TS3010c.Headset-0.wav: 65.4MB [00:33, 2.02MB/s]                            \n",
      "Downloading TS3010c.Headset-1.wav: 65.4MB [00:37, 1.82MB/s]\n",
      "Downloading TS3010c.Headset-2.wav: 65.4MB [00:34, 2.01MB/s]                            \n",
      "Downloading TS3010c.Headset-3.wav: 65.4MB [00:32, 2.13MB/s]                            \n",
      "Downloading TS3010d.Headset-0.wav: 58.6MB [00:31, 1.97MB/s]                            \n",
      "Downloading TS3010d.Headset-1.wav: 58.6MB [00:32, 1.88MB/s]                            \n",
      "Downloading TS3010d.Headset-2.wav: 58.6MB [00:31, 1.93MB/s]                            \n",
      "Downloading TS3010d.Headset-3.wav: 58.6MB [00:30, 1.99MB/s]                            \n",
      "Downloading TS3011a.Headset-0.wav: 46.1MB [00:27, 1.78MB/s]                            \n",
      "Downloading TS3011a.Headset-1.wav: 46.1MB [00:25, 1.92MB/s]\n",
      "Downloading TS3011a.Headset-2.wav: 46.1MB [00:25, 1.90MB/s]                            \n",
      "Downloading TS3011a.Headset-3.wav: 46.1MB [00:27, 1.74MB/s]                            \n",
      "Downloading TS3011b.Headset-0.wav: 67.6MB [00:37, 1.89MB/s]                           \n",
      "Downloading TS3011b.Headset-1.wav: 67.6MB [00:36, 1.94MB/s]                            \n",
      "Downloading TS3011b.Headset-2.wav: 67.6MB [00:36, 1.94MB/s]                            \n",
      "Downloading TS3011b.Headset-3.wav: 67.6MB [00:34, 2.03MB/s]                            \n",
      "Downloading TS3011c.Headset-0.wav: 73.1MB [00:40, 1.90MB/s]                            \n",
      "Downloading TS3011c.Headset-1.wav: 73.1MB [00:36, 2.08MB/s]                            \n",
      "Downloading TS3011c.Headset-2.wav: 73.1MB [00:37, 2.05MB/s]                            \n",
      "Downloading TS3011c.Headset-3.wav: 73.1MB [00:40, 1.88MB/s]                            \n",
      "Downloading TS3011d.Headset-0.wav: 65.8MB [00:34, 1.98MB/s]                            \n",
      "Downloading TS3011d.Headset-1.wav: 65.8MB [00:35, 1.92MB/s]                            \n",
      "Downloading TS3011d.Headset-2.wav: 65.8MB [00:34, 2.01MB/s]                            \n",
      "Downloading TS3011d.Headset-3.wav: 65.8MB [00:35, 1.97MB/s]                            \n",
      "Downloading TS3012a.Headset-0.wav: 26.2MB [00:15, 1.77MB/s]                            \n",
      "Downloading TS3012a.Headset-1.wav: 26.2MB [00:15, 1.78MB/s]                            \n",
      "Downloading TS3012a.Headset-2.wav: 26.2MB [00:15, 1.81MB/s]                            \n",
      "Downloading TS3012a.Headset-3.wav: 26.2MB [00:13, 2.06MB/s]                            \n",
      "Downloading TS3012b.Headset-0.wav: 75.0MB [00:41, 1.91MB/s]                            \n",
      "Downloading TS3012b.Headset-1.wav: 75.0MB [00:42, 1.83MB/s]                            \n",
      "Downloading TS3012b.Headset-2.wav: 75.0MB [00:40, 1.96MB/s]                            \n",
      "Downloading TS3012b.Headset-3.wav: 75.0MB [00:40, 1.93MB/s]                            \n",
      "Downloading TS3012c.Headset-0.wav: 72.5MB [00:39, 1.94MB/s]                            \n",
      "Downloading TS3012c.Headset-1.wav: 72.5MB [00:38, 2.00MB/s]                            \n",
      "Downloading TS3012c.Headset-2.wav: 72.5MB [00:38, 1.96MB/s]                            \n",
      "Downloading TS3012c.Headset-3.wav: 72.5MB [00:35, 2.14MB/s]                            \n",
      "Downloading TS3012d.Headset-0.wav: 71.5MB [00:39, 1.91MB/s]                            \n",
      "Downloading TS3012d.Headset-1.wav: 71.5MB [00:43, 1.73MB/s]                            \n",
      "Downloading TS3012d.Headset-2.wav: 71.5MB [00:37, 2.00MB/s]                            \n",
      "Downloading TS3012d.Headset-3.wav: 71.5MB [00:35, 2.10MB/s]                            \n",
      "Downloading AMI meetings: 171it [3:21:05, 70.56s/it] \n"
     ]
    }
   ],
   "metadata": {}
  },
  {
   "cell_type": "markdown",
   "source": [
    "# Prepare audio and supervision manifests"
   ],
   "metadata": {}
  },
  {
   "cell_type": "code",
   "execution_count": 8,
   "source": [
    "ami_manifests = prepare_ami(root_dir, output_dir)"
   ],
   "outputs": [
    {
     "output_type": "stream",
     "name": "stderr",
     "text": [
      "WARNING:root:No speaker EN2009c.D found! Skipping annotation.\n",
      "WARNING:root:No speaker EN2002c.D found! Skipping annotation.\n",
      "WARNING:root:No speaker EN2003a.D found! Skipping annotation.\n",
      "WARNING:root:No speaker IN1001.D found! Skipping annotation.\n",
      "WARNING:root:No speaker EN2009b.D found! Skipping annotation.\n",
      "WARNING:root:No annotation found for recording EN2009b (file data/wav_db/EN2009b/audio/EN2009b.Headset-3.wav)\n",
      "WARNING:root:No annotation found for recording EN2009c (file data/wav_db/EN2009c/audio/EN2009c.Headset-3.wav)\n",
      "WARNING:root:Segment TS3007c-1-976 exceeds recording duration. Not adding to supervisions.\n",
      "WARNING:root:Segment TS3007c-1-977 exceeds recording duration. Not adding to supervisions.\n",
      "WARNING:root:Segment TS3007c-2-1215 exceeds recording duration. Not adding to supervisions.\n",
      "WARNING:root:Segment TS3007c-2-1216 exceeds recording duration. Not adding to supervisions.\n",
      "WARNING:root:Segment TS3007c-2-1217 exceeds recording duration. Not adding to supervisions.\n",
      "WARNING:root:Segment TS3007c-2-1218 exceeds recording duration. Not adding to supervisions.\n",
      "WARNING:root:Segment TS3007c-2-1219 exceeds recording duration. Not adding to supervisions.\n",
      "WARNING:root:Segment TS3007c-2-1220 exceeds recording duration. Not adding to supervisions.\n",
      "WARNING:root:No annotation found for recording EN2003a (file data/wav_db/EN2003a/audio/EN2003a.Headset-2.wav)\n",
      "WARNING:root:No annotation found for recording IN1001 (file data/wav_db/IN1001/audio/IN1001.Headset-3.wav)\n",
      "WARNING:root:No annotation found for recording EN2002c (file data/wav_db/EN2002c/audio/EN2002c.Headset-0.wav)\n"
     ]
    }
   ],
   "metadata": {}
  },
  {
   "cell_type": "markdown",
   "source": [
    "# Extract features"
   ],
   "metadata": {}
  },
  {
   "cell_type": "code",
   "execution_count": 9,
   "source": [
    "example = ami_manifests['dev']\n",
    "\n",
    "example['cuts'] = CutSet.from_manifests(\n",
    "    recordings=example['recordings'],\n",
    "    supervisions=example['supervisions']\n",
    ").compute_and_store_features(\n",
    "    extractor=Fbank(),\n",
    "    storage_path=f'{output_dir}/feats_example',\n",
    "    storage_type=LilcomFilesWriter,\n",
    ")"
   ],
   "outputs": [
    {
     "output_type": "stream",
     "name": "stderr",
     "text": [
      "Extracting and storing features: 100%|██████████| 104/104 [07:33<00:00,  4.36s/it]\n"
     ]
    }
   ],
   "metadata": {}
  },
  {
   "cell_type": "markdown",
   "source": [
    "# Make PyTorch Dataset for ASR task"
   ],
   "metadata": {}
  },
  {
   "cell_type": "code",
   "execution_count": null,
   "source": [
    "asr_dataset = K2SpeechRecognitionDataset(example['cuts'].trim_to_supervisions())"
   ],
   "outputs": [],
   "metadata": {}
  },
  {
   "cell_type": "markdown",
   "source": [
    "# Illustation of an example"
   ],
   "metadata": {}
  },
  {
   "cell_type": "code",
   "execution_count": null,
   "source": [
    "sampler = SingleCutSampler(asr_dataset.cuts, shuffle=False, max_cuts=4)\n",
    "cut_ids = next(iter(sampler))"
   ],
   "outputs": [],
   "metadata": {}
  },
  {
   "cell_type": "code",
   "execution_count": null,
   "source": [
    "sample = asr_dataset[cut_ids]\n",
    "print(sample['supervisions']['text'][0])"
   ],
   "outputs": [
    {
     "output_type": "stream",
     "name": "stdout",
     "text": [
      "WELCOME EVERYBODY\n"
     ]
    }
   ],
   "metadata": {}
  },
  {
   "cell_type": "code",
   "execution_count": null,
   "source": [
    "plt.matshow(sample['inputs'][0].transpose(0, 1).flip(0))"
   ],
   "outputs": [
    {
     "output_type": "execute_result",
     "data": {
      "text/plain": [
       "<matplotlib.image.AxesImage at 0x1403216d0>"
      ]
     },
     "metadata": {},
     "execution_count": 9
    },
    {
     "output_type": "display_data",
     "data": {
      "image/png": "[encoded data removed]",
      "text/plain": [
       "<Figure size 1152x144 with 1 Axes>"
      ]
     },
     "metadata": {
      "needs_background": "light"
     }
    }
   ],
   "metadata": {}
  },
  {
   "cell_type": "markdown",
   "source": [
    "# Make PyTorch Dataset for VAD task"
   ],
   "metadata": {}
  },
  {
   "cell_type": "code",
   "execution_count": 15,
   "source": [
    "#vad_dataset = VadDataset(example['cuts'].cut_into_windows(10.0, keep_excessive_supervisions=True))\n",
    "vad_dataset = VadDataset()"
   ],
   "outputs": [],
   "metadata": {}
  },
  {
   "cell_type": "markdown",
   "source": [
    "# Illustation of an example"
   ],
   "metadata": {}
  },
  {
   "cell_type": "code",
   "execution_count": 18,
   "source": [
    "sampler = SingleCutSampler(example['cuts'], shuffle=False, max_cuts=4)\n",
    "cut_ids = next(iter(sampler))"
   ],
   "outputs": [],
   "metadata": {}
  },
  {
   "cell_type": "code",
   "execution_count": 19,
   "source": [
    "sample = vad_dataset[cut_ids]\n",
    "\n",
    "label_height = 10\n",
    "vad_label = torch.stack([sample['is_voice'] for i in range(label_height)]).reshape(label_height, 1000)\n",
    "plt.matshow(vad_label)\n",
    "plt.matshow(sample['inputs'][0].transpose(0, 1).flip(0))"
   ],
   "outputs": [
    {
     "output_type": "error",
     "ename": "RuntimeError",
     "evalue": "shape '[10, 1000]' is invalid for input of size 4559080",
     "traceback": [
      "\u001b[0;31m---------------------------------------------------------------------------\u001b[0m",
      "\u001b[0;31mRuntimeError\u001b[0m                              Traceback (most recent call last)",
      "\u001b[0;32m/var/folders/qn/nls21xq95sq_zsjsm5mwtgf40000gn/T/ipykernel_50257/1614735439.py\u001b[0m in \u001b[0;36m<module>\u001b[0;34m\u001b[0m\n\u001b[1;32m      2\u001b[0m \u001b[0;34m\u001b[0m\u001b[0m\n\u001b[1;32m      3\u001b[0m \u001b[0mlabel_height\u001b[0m \u001b[0;34m=\u001b[0m \u001b[0;36m10\u001b[0m\u001b[0;34m\u001b[0m\u001b[0;34m\u001b[0m\u001b[0m\n\u001b[0;32m----> 4\u001b[0;31m \u001b[0mvad_label\u001b[0m \u001b[0;34m=\u001b[0m \u001b[0mtorch\u001b[0m\u001b[0;34m.\u001b[0m\u001b[0mstack\u001b[0m\u001b[0;34m(\u001b[0m\u001b[0;34m[\u001b[0m\u001b[0msample\u001b[0m\u001b[0;34m[\u001b[0m\u001b[0;34m'is_voice'\u001b[0m\u001b[0;34m]\u001b[0m \u001b[0;32mfor\u001b[0m \u001b[0mi\u001b[0m \u001b[0;32min\u001b[0m \u001b[0mrange\u001b[0m\u001b[0;34m(\u001b[0m\u001b[0mlabel_height\u001b[0m\u001b[0;34m)\u001b[0m\u001b[0;34m]\u001b[0m\u001b[0;34m)\u001b[0m\u001b[0;34m.\u001b[0m\u001b[0mreshape\u001b[0m\u001b[0;34m(\u001b[0m\u001b[0mlabel_height\u001b[0m\u001b[0;34m,\u001b[0m \u001b[0;36m1000\u001b[0m\u001b[0;34m)\u001b[0m\u001b[0;34m\u001b[0m\u001b[0;34m\u001b[0m\u001b[0m\n\u001b[0m\u001b[1;32m      5\u001b[0m \u001b[0mplt\u001b[0m\u001b[0;34m.\u001b[0m\u001b[0mmatshow\u001b[0m\u001b[0;34m(\u001b[0m\u001b[0mvad_label\u001b[0m\u001b[0;34m)\u001b[0m\u001b[0;34m\u001b[0m\u001b[0;34m\u001b[0m\u001b[0m\n\u001b[1;32m      6\u001b[0m \u001b[0mplt\u001b[0m\u001b[0;34m.\u001b[0m\u001b[0mmatshow\u001b[0m\u001b[0;34m(\u001b[0m\u001b[0msample\u001b[0m\u001b[0;34m[\u001b[0m\u001b[0;34m'inputs'\u001b[0m\u001b[0;34m]\u001b[0m\u001b[0;34m[\u001b[0m\u001b[0;36m0\u001b[0m\u001b[0;34m]\u001b[0m\u001b[0;34m.\u001b[0m\u001b[0mtranspose\u001b[0m\u001b[0;34m(\u001b[0m\u001b[0;36m0\u001b[0m\u001b[0;34m,\u001b[0m \u001b[0;36m1\u001b[0m\u001b[0;34m)\u001b[0m\u001b[0;34m.\u001b[0m\u001b[0mflip\u001b[0m\u001b[0;34m(\u001b[0m\u001b[0;36m0\u001b[0m\u001b[0;34m)\u001b[0m\u001b[0;34m)\u001b[0m\u001b[0;34m\u001b[0m\u001b[0;34m\u001b[0m\u001b[0m\n",
      "\u001b[0;31mRuntimeError\u001b[0m: shape '[10, 1000]' is invalid for input of size 4559080"
     ]
    }
   ],
   "metadata": {}
  }
 ],
 "metadata": {
  "kernelspec": {
   "name": "python3",
   "display_name": "Python 3.9.7 64-bit ('vad': conda)"
  },
  "language_info": {
   "codemirror_mode": {
    "name": "ipython",
    "version": 3
   },
   "file_extension": ".py",
   "mimetype": "text/x-python",
   "name": "python",
   "nbconvert_exporter": "python",
   "pygments_lexer": "ipython3",
   "version": "3.9.7"
  },
  "interpreter": {
   "hash": "d889b5b8029a42385c8853d77d52b7bb9562854fc5ba7ad04d6da216dea4a0d2"
  }
 },
 "nbformat": 4,
 "nbformat_minor": 4
}