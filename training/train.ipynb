{
 "cells": [
  {
   "cell_type": "code",
   "execution_count": null,
   "source": [
    "project_dir = \"/Users/joannarownicka/software/vad\"\n",
    "os.chdir(project_dir)"
   ],
   "outputs": [],
   "metadata": {}
  },
  {
   "cell_type": "code",
   "execution_count": 1,
   "source": [
    "import glob\n",
    "import sox\n",
    "import json\n",
    "import numpy as np\n",
    "import os\n",
    "from pathlib import Path\n",
    "\n",
    "import matplotlib.pyplot as plt\n",
    "import torch\n",
    "from lhotse import LilcomFilesWriter\n",
    "\n",
    "from lhotse.features import Fbank, FeatureSetBuilder\n",
    "from lhotse.cut import CutSet, SupervisionSet\n",
    "from lhotse.dataset.sampling import SingleCutSampler\n",
    "from lhotse.dataset.vad import VadDataset\n",
    "\n",
    "from torch.utils.data import DataLoader\n",
    "\n",
    "from preprocessing import prepare_vad_dataset\n",
    "from models import dnn"
   ],
   "outputs": [
    {
     "output_type": "error",
     "ename": "ModuleNotFoundError",
     "evalue": "No module named 'preprocessing'",
     "traceback": [
      "\u001b[0;31m---------------------------------------------------------------------------\u001b[0m",
      "\u001b[0;31mModuleNotFoundError\u001b[0m                       Traceback (most recent call last)",
      "\u001b[0;32m/var/folders/qn/nls21xq95sq_zsjsm5mwtgf40000gn/T/ipykernel_91678/1502028538.py\u001b[0m in \u001b[0;36m<module>\u001b[0;34m\u001b[0m\n\u001b[1;32m     17\u001b[0m \u001b[0;32mfrom\u001b[0m \u001b[0mtorch\u001b[0m\u001b[0;34m.\u001b[0m\u001b[0mutils\u001b[0m\u001b[0;34m.\u001b[0m\u001b[0mdata\u001b[0m \u001b[0;32mimport\u001b[0m \u001b[0mDataLoader\u001b[0m\u001b[0;34m\u001b[0m\u001b[0;34m\u001b[0m\u001b[0m\n\u001b[1;32m     18\u001b[0m \u001b[0;34m\u001b[0m\u001b[0m\n\u001b[0;32m---> 19\u001b[0;31m \u001b[0;32mfrom\u001b[0m \u001b[0mpreprocessing\u001b[0m \u001b[0;32mimport\u001b[0m \u001b[0mprepare_vad_dataset\u001b[0m\u001b[0;34m\u001b[0m\u001b[0;34m\u001b[0m\u001b[0m\n\u001b[0m\u001b[1;32m     20\u001b[0m \u001b[0;32mfrom\u001b[0m \u001b[0mmodels\u001b[0m \u001b[0;32mimport\u001b[0m \u001b[0mdnn\u001b[0m\u001b[0;34m\u001b[0m\u001b[0;34m\u001b[0m\u001b[0m\n",
      "\u001b[0;31mModuleNotFoundError\u001b[0m: No module named 'preprocessing'"
     ]
    }
   ],
   "metadata": {}
  },
  {
   "cell_type": "code",
   "execution_count": null,
   "source": [
    "root_dir = Path('evaluation/data')\n",
    "corpus_dir = root_dir / 'vad_data/'\n",
    "output_dir = root_dir / 'vad_data_nb/'"
   ],
   "outputs": [],
   "metadata": {}
  },
  {
   "cell_type": "code",
   "execution_count": null,
   "source": [
    "#vad_manifests = prepare_vad_dataset.prepare_vad_dataset(corpus_dir, output_dir)\n",
    "cuts = CutSet.from_json(output_dir / 'cuts.json.gz')\n",
    "cuts.describe()"
   ],
   "outputs": [],
   "metadata": {}
  },
  {
   "cell_type": "code",
   "execution_count": null,
   "source": [
    "# Shuffle data but keep seed fixed, split into 80/10/10\n",
    "#cuts_train, cuts_dev_eval = train_test_split(cuts, train_size=0.8, random_state=0)\n",
    "#cuts_dev, cuts_eval = train_test_split(cuts_dev_eval, train_size=0.5, random_state=0)\n",
    "\n",
    "vad_manifests = prepare_vad_dataset.prepare_vad_dataset(corpus_dir, output_dir)\n",
    "\n",
    "train_ratio = 0.8\n",
    "\n",
    "num_total = len(vad_manifests[\"supervisions\"])\n",
    "stop_train_idx = int(np.floor(num_total * train_ratio))\n",
    "stop_dev_idx = int((num_total - stop_train_idx) // 2 + stop_train_idx)\n",
    "\n",
    "train_ids, dev_ids, eval_ids = [], [], []\n",
    "counter = 0\n",
    "for sup_seg in vad_manifests[\"supervisions\"]:\n",
    "    id = sup_seg.to_dict()[\"id\"]\n",
    "    if counter < stop_train_idx:\n",
    "        train_ids.append(id)\n",
    "    elif counter < stop_dev_idx:\n",
    "        dev_ids.append(id)\n",
    "    else:\n",
    "        eval_ids.append(id)\n",
    "    counter += 1\n",
    "\n",
    "assert train_ids[-1] != dev_ids[0]\n",
    "assert dev_ids[-1] != eval_ids[0]\n",
    "\n",
    "cuts_train = cuts.subset(supervision_ids=train_ids)\n",
    "cuts_dev = cuts.subset(supervision_ids=dev_ids)\n",
    "cuts_eval = cuts.subset(supervision_ids=eval_ids)\n",
    "\n",
    "cuts_train.describe()\n",
    "cuts_dev.describe()\n",
    "cuts_eval.describe()\n"
   ],
   "outputs": [],
   "metadata": {}
  },
  {
   "cell_type": "code",
   "execution_count": null,
   "source": [
    "vad_dataset = VadDataset()\n",
    "\n",
    "train_sampler = SingleCutSampler(cuts_train.cut_into_windows(5.0, keep_excessive_supervisions=True), shuffle=False)\n",
    "dev_sampler = SingleCutSampler(cuts_dev.cut_into_windows(5.0, keep_excessive_supervisions=True), shuffle=False)\n",
    "eval_sampler = SingleCutSampler(cuts_eval.cut_into_windows(5.0, keep_excessive_supervisions=True), shuffle=False)\n",
    "\n",
    "train_dloader = DataLoader(vad_dataset, sampler=train_sampler, batch_size=None, num_workers=1)\n",
    "dev_dloader = DataLoader(vad_dataset, sampler=dev_sampler, batch_size=None, num_workers=1)\n",
    "eval_dloader = DataLoader(vad_dataset, sampler=eval_sampler, batch_size=None, num_workers=1)"
   ],
   "outputs": [],
   "metadata": {}
  },
  {
   "cell_type": "code",
   "execution_count": null,
   "source": [
    "input_size = 40 * 500\n",
    "\n",
    "model = dnn(input_size=input_size, hidden_size=512, num_classes=2)\n",
    "\n",
    "optim = torch.optim.Adam(model.parameters())\n",
    "\n",
    "train_acc = []\n",
    "valid_acc = []\n",
    "for epoch in range(10):\n",
    "  # training\n",
    "    acc = []\n",
    "    model.train()\n",
    "    train_dloader.sampler.set_epoch(epoch)\n",
    "    for batch_idx, data in enumerate(train_dloader):\n",
    "        loss = model(*[d for d in data.values()])\n",
    "        if batch_idx % 10 == 0:\n",
    "            print(f'Batch {batch_idx} => loss {loss}')\n",
    "        optim.zero_grad()\n",
    "        loss.backward()\n",
    "        acc.append(model.acc)\n",
    "        norm = torch.nn.utils.clip_grad_norm_(model.parameters(), 5.0)\n",
    "        optim.step()\n",
    "        t_r = loss.item()\n",
    "    train_acc.append(np.mean(acc))\n",
    "    # validation\n",
    "    acc = []\n",
    "    model.eval()\n",
    "    for data in dev_dloader:\n",
    "        model(*[d for d in data.values()])\n",
    "        acc.append(model.acc)\n",
    "    valid_acc.append(np.mean(acc))\n",
    "    print(f\"epoch: {epoch}, train acc: {train_acc[-1]:.3f}, dev acc: {valid_acc[-1]:.3f}, loss:{t_r:.3f}\")"
   ],
   "outputs": [],
   "metadata": {}
  },
  {
   "cell_type": "code",
   "execution_count": null,
   "source": [
    "import gc\n",
    "gc.collect()\n",
    "torch.cuda.empty_cache()"
   ],
   "outputs": [],
   "metadata": {}
  }
 ],
 "metadata": {
  "orig_nbformat": 4,
  "language_info": {
   "name": "python",
   "version": "3.9.7",
   "mimetype": "text/x-python",
   "codemirror_mode": {
    "name": "ipython",
    "version": 3
   },
   "pygments_lexer": "ipython3",
   "nbconvert_exporter": "python",
   "file_extension": ".py"
  },
  "kernelspec": {
   "name": "python3",
   "display_name": "Python 3.9.7 64-bit ('vad': conda)"
  },
  "interpreter": {
   "hash": "d889b5b8029a42385c8853d77d52b7bb9562854fc5ba7ad04d6da216dea4a0d2"
  }
 },
 "nbformat": 4,
 "nbformat_minor": 2
}